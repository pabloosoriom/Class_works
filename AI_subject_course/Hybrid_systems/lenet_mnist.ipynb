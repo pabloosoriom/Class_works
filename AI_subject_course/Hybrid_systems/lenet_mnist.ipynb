{
 "cells": [
  {
   "cell_type": "code",
   "execution_count": null,
   "metadata": {},
   "outputs": [],
   "source": [
    "#Installing the required packages with pip\n",
    "!pip install mxnet-cu101\n",
    "!pip install d2l\n",
    "!pip install matplotlib\n",
    "!pip install numpy\n",
    "!pip install pandas\n",
    "!pip install sklearn\n",
    "!pip install seaborn\n",
    "!pip install mlxtend\n",
    "!pip install torch\n",
    "!pip install platform\n",
    "#Importing the required packages"
   ]
  },
  {
   "cell_type": "code",
   "execution_count": 3,
   "metadata": {},
   "outputs": [
    {
     "name": "stdout",
     "output_type": "stream",
     "text": [
      "WARNING:tensorflow:From /home/sisazac23/anaconda3/lib/python3.9/site-packages/tensorflow/python/compat/v2_compat.py:107: disable_resource_variables (from tensorflow.python.ops.variable_scope) is deprecated and will be removed in a future version.\n",
      "Instructions for updating:\n",
      "non-resource variables are not supported in the long term\n"
     ]
    }
   ],
   "source": [
    "import pandas as pd\n",
    "import tensorflow as tf\n",
    "import numpy as np\n",
    "from sklearn.model_selection import train_test_split\n",
    "from sklearn.metrics import confusion_matrix, precision_score, recall_score, f1_score, accuracy_score\n",
    "import seaborn as sns\n",
    "\n",
    "import matplotlib.pyplot as plt\n",
    "\n",
    "from mlxtend.data import loadlocal_mnist\n",
    "import platform\n",
    "import tensorflow.compat.v1 as tf\n",
    "tf.disable_v2_behavior()"
   ]
  },
  {
   "cell_type": "markdown",
   "metadata": {},
   "source": [
    "## Load data"
   ]
  },
  {
   "cell_type": "code",
   "execution_count": 5,
   "metadata": {},
   "outputs": [],
   "source": [
    "X_train, y_train = loadlocal_mnist(\n",
    "    images_path='train-images.idx3-ubyte', \n",
    "    labels_path='train-labels.idx1-ubyte')\n",
    "X_test, y_test = loadlocal_mnist(\n",
    "    images_path='t10k-images.idx3-ubyte', \n",
    "    labels_path='t10k-labels.idx1-ubyte')"
   ]
  },
  {
   "cell_type": "code",
   "execution_count": 6,
   "metadata": {},
   "outputs": [
    {
     "name": "stdout",
     "output_type": "stream",
     "text": [
      "Train images: (60000, 784)\n",
      "Train labels: (60000,)\n",
      "Test images: (10000, 784)\n",
      "Test labels: (10000,)\n"
     ]
    }
   ],
   "source": [
    "print('Train images:', X_train.shape)\n",
    "print('Train labels:', y_train.shape)\n",
    "print('Test images:', X_test.shape)\n",
    "print('Test labels:', y_test.shape)"
   ]
  },
  {
   "cell_type": "code",
   "execution_count": 7,
   "metadata": {},
   "outputs": [],
   "source": [
    "pixel_col = ['pixel'] * X_train.shape[1]\n",
    "concatenar = lambda x,y: x + \"\" + str(y)\n",
    "columnas = list(map(concatenar, pixel_col, list(range( X_train.shape[1]))))\n",
    "\n",
    "train = pd.DataFrame(X_train, columns = columnas)\n",
    "train.insert(0, 'label', y_train, True)\n",
    "\n",
    "test = pd.DataFrame(X_test, columns = columnas)\n",
    "test.insert(0, 'label', y_test, True)"
   ]
  },
  {
   "cell_type": "code",
   "execution_count": 8,
   "metadata": {},
   "outputs": [],
   "source": [
    "train.to_csv('train.csv', index = False)\n",
    "test.to_csv('test.csv', index = False)"
   ]
  },
  {
   "cell_type": "markdown",
   "metadata": {},
   "source": [
    "## Architecture"
   ]
  },
  {
   "cell_type": "code",
   "execution_count": 9,
   "metadata": {},
   "outputs": [
    {
     "data": {
      "text/html": [
       "<div>\n",
       "<style scoped>\n",
       "    .dataframe tbody tr th:only-of-type {\n",
       "        vertical-align: middle;\n",
       "    }\n",
       "\n",
       "    .dataframe tbody tr th {\n",
       "        vertical-align: top;\n",
       "    }\n",
       "\n",
       "    .dataframe thead th {\n",
       "        text-align: right;\n",
       "    }\n",
       "</style>\n",
       "<table border=\"1\" class=\"dataframe\">\n",
       "  <thead>\n",
       "    <tr style=\"text-align: right;\">\n",
       "      <th></th>\n",
       "      <th>label</th>\n",
       "      <th>pixel0</th>\n",
       "      <th>pixel1</th>\n",
       "      <th>pixel2</th>\n",
       "      <th>pixel3</th>\n",
       "      <th>pixel4</th>\n",
       "      <th>pixel5</th>\n",
       "      <th>pixel6</th>\n",
       "      <th>pixel7</th>\n",
       "      <th>pixel8</th>\n",
       "      <th>...</th>\n",
       "      <th>pixel774</th>\n",
       "      <th>pixel775</th>\n",
       "      <th>pixel776</th>\n",
       "      <th>pixel777</th>\n",
       "      <th>pixel778</th>\n",
       "      <th>pixel779</th>\n",
       "      <th>pixel780</th>\n",
       "      <th>pixel781</th>\n",
       "      <th>pixel782</th>\n",
       "      <th>pixel783</th>\n",
       "    </tr>\n",
       "  </thead>\n",
       "  <tbody>\n",
       "    <tr>\n",
       "      <th>0</th>\n",
       "      <td>5</td>\n",
       "      <td>0</td>\n",
       "      <td>0</td>\n",
       "      <td>0</td>\n",
       "      <td>0</td>\n",
       "      <td>0</td>\n",
       "      <td>0</td>\n",
       "      <td>0</td>\n",
       "      <td>0</td>\n",
       "      <td>0</td>\n",
       "      <td>...</td>\n",
       "      <td>0</td>\n",
       "      <td>0</td>\n",
       "      <td>0</td>\n",
       "      <td>0</td>\n",
       "      <td>0</td>\n",
       "      <td>0</td>\n",
       "      <td>0</td>\n",
       "      <td>0</td>\n",
       "      <td>0</td>\n",
       "      <td>0</td>\n",
       "    </tr>\n",
       "    <tr>\n",
       "      <th>1</th>\n",
       "      <td>0</td>\n",
       "      <td>0</td>\n",
       "      <td>0</td>\n",
       "      <td>0</td>\n",
       "      <td>0</td>\n",
       "      <td>0</td>\n",
       "      <td>0</td>\n",
       "      <td>0</td>\n",
       "      <td>0</td>\n",
       "      <td>0</td>\n",
       "      <td>...</td>\n",
       "      <td>0</td>\n",
       "      <td>0</td>\n",
       "      <td>0</td>\n",
       "      <td>0</td>\n",
       "      <td>0</td>\n",
       "      <td>0</td>\n",
       "      <td>0</td>\n",
       "      <td>0</td>\n",
       "      <td>0</td>\n",
       "      <td>0</td>\n",
       "    </tr>\n",
       "    <tr>\n",
       "      <th>2</th>\n",
       "      <td>4</td>\n",
       "      <td>0</td>\n",
       "      <td>0</td>\n",
       "      <td>0</td>\n",
       "      <td>0</td>\n",
       "      <td>0</td>\n",
       "      <td>0</td>\n",
       "      <td>0</td>\n",
       "      <td>0</td>\n",
       "      <td>0</td>\n",
       "      <td>...</td>\n",
       "      <td>0</td>\n",
       "      <td>0</td>\n",
       "      <td>0</td>\n",
       "      <td>0</td>\n",
       "      <td>0</td>\n",
       "      <td>0</td>\n",
       "      <td>0</td>\n",
       "      <td>0</td>\n",
       "      <td>0</td>\n",
       "      <td>0</td>\n",
       "    </tr>\n",
       "    <tr>\n",
       "      <th>3</th>\n",
       "      <td>1</td>\n",
       "      <td>0</td>\n",
       "      <td>0</td>\n",
       "      <td>0</td>\n",
       "      <td>0</td>\n",
       "      <td>0</td>\n",
       "      <td>0</td>\n",
       "      <td>0</td>\n",
       "      <td>0</td>\n",
       "      <td>0</td>\n",
       "      <td>...</td>\n",
       "      <td>0</td>\n",
       "      <td>0</td>\n",
       "      <td>0</td>\n",
       "      <td>0</td>\n",
       "      <td>0</td>\n",
       "      <td>0</td>\n",
       "      <td>0</td>\n",
       "      <td>0</td>\n",
       "      <td>0</td>\n",
       "      <td>0</td>\n",
       "    </tr>\n",
       "    <tr>\n",
       "      <th>4</th>\n",
       "      <td>9</td>\n",
       "      <td>0</td>\n",
       "      <td>0</td>\n",
       "      <td>0</td>\n",
       "      <td>0</td>\n",
       "      <td>0</td>\n",
       "      <td>0</td>\n",
       "      <td>0</td>\n",
       "      <td>0</td>\n",
       "      <td>0</td>\n",
       "      <td>...</td>\n",
       "      <td>0</td>\n",
       "      <td>0</td>\n",
       "      <td>0</td>\n",
       "      <td>0</td>\n",
       "      <td>0</td>\n",
       "      <td>0</td>\n",
       "      <td>0</td>\n",
       "      <td>0</td>\n",
       "      <td>0</td>\n",
       "      <td>0</td>\n",
       "    </tr>\n",
       "  </tbody>\n",
       "</table>\n",
       "<p>5 rows × 785 columns</p>\n",
       "</div>"
      ],
      "text/plain": [
       "   label  pixel0  pixel1  pixel2  pixel3  pixel4  pixel5  pixel6  pixel7  \\\n",
       "0      5       0       0       0       0       0       0       0       0   \n",
       "1      0       0       0       0       0       0       0       0       0   \n",
       "2      4       0       0       0       0       0       0       0       0   \n",
       "3      1       0       0       0       0       0       0       0       0   \n",
       "4      9       0       0       0       0       0       0       0       0   \n",
       "\n",
       "   pixel8  ...  pixel774  pixel775  pixel776  pixel777  pixel778  pixel779  \\\n",
       "0       0  ...         0         0         0         0         0         0   \n",
       "1       0  ...         0         0         0         0         0         0   \n",
       "2       0  ...         0         0         0         0         0         0   \n",
       "3       0  ...         0         0         0         0         0         0   \n",
       "4       0  ...         0         0         0         0         0         0   \n",
       "\n",
       "   pixel780  pixel781  pixel782  pixel783  \n",
       "0         0         0         0         0  \n",
       "1         0         0         0         0  \n",
       "2         0         0         0         0  \n",
       "3         0         0         0         0  \n",
       "4         0         0         0         0  \n",
       "\n",
       "[5 rows x 785 columns]"
      ]
     },
     "execution_count": 9,
     "metadata": {},
     "output_type": "execute_result"
    }
   ],
   "source": [
    "# Read the training and testing data\n",
    "train = pd.read_csv(\"train.csv\")\n",
    "test = pd.read_csv(\"test.csv\")\n",
    "test_x = test.iloc[:,1:]\n",
    "train.head()"
   ]
  },
  {
   "cell_type": "code",
   "execution_count": 10,
   "metadata": {},
   "outputs": [
    {
     "name": "stdout",
     "output_type": "stream",
     "text": [
      "Training set size: (54000, 784)\n",
      "Validation set size: (6000, 784)\n",
      "Test set size: (10000, 784)\n"
     ]
    }
   ],
   "source": [
    "# Split train and validation sets\n",
    "train_x, valid_x, train_y, valid_y = train_test_split(train.iloc[:,1:], \n",
    "                                                      train.iloc[:,0], \n",
    "                                                      test_size=0.1)\n",
    "print(\"Training set size: {}\".format(train_x.shape))\n",
    "print(\"Validation set size: {}\".format(valid_x.shape))\n",
    "print(\"Test set size: {}\".format(test_x.shape))"
   ]
  },
  {
   "cell_type": "code",
   "execution_count": 11,
   "metadata": {},
   "outputs": [
    {
     "data": {
      "text/plain": [
       "<matplotlib.image.AxesImage at 0x7f8b5df86fd0>"
      ]
     },
     "execution_count": 11,
     "metadata": {},
     "output_type": "execute_result"
    },
    {
     "data": {
      "image/png": "[encoded data removed]",
      "text/plain": [
       "<Figure size 640x480 with 1 Axes>"
      ]
     },
     "metadata": {},
     "output_type": "display_data"
    }
   ],
   "source": [
    "# Example training data\n",
    "plt.imshow(train_x.iloc[5].values.reshape(28, 28))"
   ]
  },
  {
   "cell_type": "code",
   "execution_count": 12,
   "metadata": {},
   "outputs": [
    {
     "data": {
      "image/png": "[encoded data removed]",
      "text/plain": [
       "<Figure size 1000x1000 with 10 Axes>"
      ]
     },
     "metadata": {},
     "output_type": "display_data"
    }
   ],
   "source": [
    "fig, axs = plt.subplots(4, 3, figsize=(10,10))\n",
    "axs[0, 0].imshow(train_x[train_y == 0].iloc[0].values.reshape(28, 28))\n",
    "axs[0, 0].set_title('Real Label: 0')\n",
    "axs[0, 1].imshow(train_x[train_y == 1].iloc[0].values.reshape(28, 28))\n",
    "axs[0, 1].set_title('Real Label: 1')\n",
    "axs[0, 2].imshow(train_x[train_y == 2].iloc[0].values.reshape(28, 28))\n",
    "axs[0, 2].set_title('Real Label: 2')\n",
    "axs[1, 0].imshow(train_x[train_y == 3].iloc[0].values.reshape(28, 28))\n",
    "axs[1, 0].set_title('Real Label: 3')\n",
    "axs[1, 1].imshow(train_x[train_y == 4].iloc[0].values.reshape(28, 28))\n",
    "axs[1, 1].set_title('Real Label: 4')\n",
    "axs[1, 2].imshow(train_x[train_y == 5].iloc[0].values.reshape(28, 28))\n",
    "axs[1, 2].set_title('Real Label: 5')\n",
    "axs[2, 0].imshow(train_x[train_y == 6].iloc[0].values.reshape(28, 28))\n",
    "axs[2, 0].set_title('Real Label: 6')\n",
    "axs[2, 1].imshow(train_x[train_y == 7].iloc[0].values.reshape(28, 28))\n",
    "axs[2, 1].set_title('Real Label: 7')\n",
    "axs[2, 2].imshow(train_x[train_y == 8].iloc[0].values.reshape(28, 28))\n",
    "axs[2, 2].set_title('Real Label: 8')\n",
    "axs[3, 1].imshow(train_x[train_y == 9].iloc[0].values.reshape(28, 28))\n",
    "axs[3, 1].set_title('Real Label: 9')\n",
    "fig.delaxes(axs[3,0]) #The indexing is zero-based here\n",
    "fig.delaxes(axs[3,2]) #The indexing is zero-based here\n",
    "\n",
    "# Hide x labels and tick labels for top plots and y ticks for right plots.\n",
    "for ax in axs.flat:\n",
    "    ax.label_outer()"
   ]
  },
  {
   "cell_type": "code",
   "execution_count": 13,
   "metadata": {},
   "outputs": [],
   "source": [
    "# LeNet-5 Model architecture\n",
    "def model(train_x, train_y, valid_x, valid_y, test_x, learning_rate=0.0001, batch_size=128, num_epochs=1000):\n",
    "    \n",
    "    # Create placeholder for model input and label.\n",
    "    # Input shape is (minbatch_size, 28, 28)\n",
    "    X = tf.placeholder(tf.float32, [None, 28, 28], name=\"X\")\n",
    "    Y = tf.placeholder(tf.int64, [None, ], name=\"Y\")\n",
    "    \n",
    "    def CNN(X):\n",
    "        # Here we defind the CNN architecture (LeNet-5)\n",
    "        \n",
    "        # Reshape input to 4-D vector\n",
    "        input_layer = tf.reshape(X, [-1, 28, 28, 1]) # -1 adds minibatch support.\n",
    "        \n",
    "        # Padding the input to make it 32x32. Specification of LeNET\n",
    "        padded_input = tf.pad(input_layer, [[0, 0], [2, 2], [2, 2], [0, 0]], \"CONSTANT\") \n",
    "        \n",
    "        # Convolutional Layer #1\n",
    "        # Has a default stride of 1\n",
    "        # Output: 28 * 28 * 6\n",
    "        conv1 = tf.layers.conv2d(\n",
    "          inputs=padded_input,\n",
    "          filters=6, # Number of filters.\n",
    "          kernel_size=5, # Size of each filter is 5x5.\n",
    "          padding=\"valid\", # No padding is applied to the input.\n",
    "          activation=tf.nn.relu)\n",
    "\n",
    "        # Pooling Layer #1\n",
    "        # Sampling half the output of previous layer\n",
    "        # Output: 14 * 14 * 6\n",
    "        pool1 = tf.layers.max_pooling2d(inputs=conv1, pool_size=[2, 2], strides=2)\n",
    "        # Convolutional Layer #2\n",
    "        # Output: 10 * 10 * 16\n",
    "        conv2 = tf.layers.conv2d(\n",
    "          inputs=pool1,\n",
    "          filters=16, # Number of filters\n",
    "          kernel_size=5, # Size of each filter is 5x5\n",
    "          padding=\"valid\", # No padding\n",
    "          activation=tf.nn.relu)\n",
    "\n",
    "        # Pooling Layer #2\n",
    "        # Output: 5 * 5 * 16\n",
    "        pool2 = tf.layers.max_pooling2d(inputs=conv2, pool_size=[2, 2], strides=2)\n",
    "\n",
    "        # Reshaping output into a single dimention array for input to fully connected layer\n",
    "        pool2_flat = tf.reshape(pool2, [-1, 5 * 5 * 16])\n",
    "        \n",
    "        # Fully connected layer #1: Has 120 neurons\n",
    "        dense1 = tf.layers.dense(inputs=pool2_flat, units=120, activation=tf.nn.relu)\n",
    "\n",
    "        # Fully connected layer #2: Has 84 neurons\n",
    "        dense2 = tf.layers.dense(inputs=dense1, units=84, activation=tf.nn.relu)\n",
    "\n",
    "        # Output layer, 10 neurons for each digit\n",
    "        logits = tf.layers.dense(inputs=dense2, units=10)\n",
    "        \n",
    "        return logits\n",
    "    \n",
    "    # Pass the input thorough our CNN\n",
    "    logits = CNN(X)\n",
    "    softmax = tf.nn.softmax(logits)\n",
    "    \n",
    "    # Convert our labels into one-hot-vectors\n",
    "    labels = tf.one_hot(indices=tf.cast(Y, tf.int32), depth=10)\n",
    "    \n",
    "    # Compute the cross-entropy loss\n",
    "    cost = tf.reduce_mean(tf.nn.softmax_cross_entropy_with_logits_v2(logits=logits,\n",
    "                                                                     labels=labels))\n",
    "    \n",
    "    # Use adam optimizer to reduce cost\n",
    "    optimizer = tf.train.AdamOptimizer(learning_rate=learning_rate)\n",
    "    train_op = optimizer.minimize(cost)\n",
    "    \n",
    "    \n",
    "    # For testing and prediction\n",
    "    predictions = tf.argmax(softmax, axis=1)\n",
    "    correct_prediction = tf.equal(predictions, Y)\n",
    "    accuracy = tf.reduce_mean(tf.cast(correct_prediction, \"float\"))\n",
    "    \n",
    "    # Initialize all the variables\n",
    "    init = tf.global_variables_initializer()\n",
    "    \n",
    "    \n",
    "    # Running the model\n",
    "    with tf.Session() as sess:\n",
    " \n",
    "        sess.run(init)\n",
    "        \n",
    "        for epoch in range(num_epochs):\n",
    "            num_samples = train_x.shape[0]\n",
    "            num_batches = (num_samples // batch_size) + 1\n",
    "            epoch_cost = 0.\n",
    "            i = 0\n",
    "            while i < num_samples:\n",
    "                batch_x = train_x.iloc[i:i+batch_size,:].values\n",
    "                batch_x = batch_x.reshape(batch_x.shape[0], 28, 28)\n",
    "\n",
    "                batch_y = train_y.iloc[i:i+batch_size].values\n",
    "\n",
    "                i += batch_size\n",
    "\n",
    "                # Train on batch and get back cost\n",
    "                _, c = sess.run([train_op, cost], feed_dict={X:batch_x, Y:batch_y})\n",
    "                epoch_cost += (c/num_batches)\n",
    "                \n",
    "            # Get accuracy for validation\n",
    "            valid_accuracy = accuracy.eval(\n",
    "                feed_dict={X:valid_x.values.reshape(valid_x.shape[0], 28, 28),\n",
    "                           Y:valid_y.values})\n",
    "            print (\"Epoch {}: Cost: {}\".format(epoch+1, epoch_cost))\n",
    "            print(\"Validation accuracy: {}\".format(valid_accuracy))\n",
    "            \n",
    "        return predictions.eval(feed_dict={X:test_x.values.reshape(test_x.shape[0], 28, 28)})"
   ]
  },
  {
   "cell_type": "code",
   "execution_count": 14,
   "metadata": {},
   "outputs": [
    {
     "name": "stderr",
     "output_type": "stream",
     "text": [
      "/tmp/ipykernel_2711/3254898848.py:21: UserWarning: `tf.layers.conv2d` is deprecated and will be removed in a future version. Please Use `tf.keras.layers.Conv2D` instead.\n",
      "  conv1 = tf.layers.conv2d(\n",
      "/tmp/ipykernel_2711/3254898848.py:31: UserWarning: `tf.layers.max_pooling2d` is deprecated and will be removed in a future version. Please use `tf.keras.layers.MaxPooling2D` instead.\n",
      "  pool1 = tf.layers.max_pooling2d(inputs=conv1, pool_size=[2, 2], strides=2)\n",
      "/tmp/ipykernel_2711/3254898848.py:34: UserWarning: `tf.layers.conv2d` is deprecated and will be removed in a future version. Please Use `tf.keras.layers.Conv2D` instead.\n",
      "  conv2 = tf.layers.conv2d(\n",
      "/tmp/ipykernel_2711/3254898848.py:43: UserWarning: `tf.layers.max_pooling2d` is deprecated and will be removed in a future version. Please use `tf.keras.layers.MaxPooling2D` instead.\n",
      "  pool2 = tf.layers.max_pooling2d(inputs=conv2, pool_size=[2, 2], strides=2)\n",
      "/tmp/ipykernel_2711/3254898848.py:49: UserWarning: `tf.layers.dense` is deprecated and will be removed in a future version. Please use `tf.keras.layers.Dense` instead.\n",
      "  dense1 = tf.layers.dense(inputs=pool2_flat, units=120, activation=tf.nn.relu)\n",
      "/tmp/ipykernel_2711/3254898848.py:52: UserWarning: `tf.layers.dense` is deprecated and will be removed in a future version. Please use `tf.keras.layers.Dense` instead.\n",
      "  dense2 = tf.layers.dense(inputs=dense1, units=84, activation=tf.nn.relu)\n",
      "/tmp/ipykernel_2711/3254898848.py:55: UserWarning: `tf.layers.dense` is deprecated and will be removed in a future version. Please use `tf.keras.layers.Dense` instead.\n",
      "  logits = tf.layers.dense(inputs=dense2, units=10)\n",
      "2022-11-22 16:02:30.146068: I tensorflow/core/platform/cpu_feature_guard.cc:193] This TensorFlow binary is optimized with oneAPI Deep Neural Network Library (oneDNN) to use the following CPU instructions in performance-critical operations:  SSE4.1 SSE4.2 AVX AVX2 FMA\n",
      "To enable them in other operations, rebuild TensorFlow with the appropriate compiler flags.\n",
      "2022-11-22 16:02:30.176557: I tensorflow/core/common_runtime/process_util.cc:146] Creating new thread pool with default inter op setting: 2. Tune using inter_op_parallelism_threads for best performance.\n",
      "2022-11-22 16:02:30.238766: I tensorflow/compiler/mlir/mlir_graph_optimization_pass.cc:354] MLIR V1 optimization pass is not enabled\n"
     ]
    },
    {
     "name": "stdout",
     "output_type": "stream",
     "text": [
      "Epoch 1: Cost: 1.6848356302704017\n",
      "Validation accuracy: 0.890999972820282\n",
      "Epoch 2: Cost: 0.34471467900932995\n",
      "Validation accuracy: 0.9279999732971191\n",
      "Epoch 3: Cost: 0.2115237474876292\n",
      "Validation accuracy: 0.9484999775886536\n",
      "Epoch 4: Cost: 0.14948648554068794\n",
      "Validation accuracy: 0.9570000171661377\n",
      "Epoch 5: Cost: 0.11177304086026568\n",
      "Validation accuracy: 0.9610000252723694\n",
      "First 5 test predictions: [7 2 1 0 4]\n"
     ]
    }
   ],
   "source": [
    "# Run for more epochs for better accuracy\n",
    "predictions = model(train_x, train_y, valid_x, valid_y, test_x, learning_rate=0.0001, batch_size=64, num_epochs=5)\n",
    "\n",
    "# Examples of what predictions look like\n",
    "print(\"First 5 test predictions: {}\".format(predictions[:5]))"
   ]
  },
  {
   "cell_type": "code",
   "execution_count": 15,
   "metadata": {},
   "outputs": [],
   "source": [
    "#Submission\n",
    "test.insert(1, 'Pred', predictions, True)\n",
    "test.to_csv('submit.csv', index = False)"
   ]
  },
  {
   "cell_type": "code",
   "execution_count": 16,
   "metadata": {},
   "outputs": [
    {
     "data": {
      "text/plain": [
       "array([[ 960,    0,    4,    0,    0,    1,    6,    2,    6,    1],\n",
       "       [   0, 1126,    4,    0,    0,    1,    1,    1,    2,    0],\n",
       "       [   5,    3,  994,    4,    1,    1,    4,    7,   11,    2],\n",
       "       [   0,    2,    4,  981,    0,    9,    1,    3,    8,    2],\n",
       "       [   1,    3,    4,    0,  951,    0,    8,    2,    4,    9],\n",
       "       [   1,    1,    0,   10,    1,  859,    7,    2,    8,    3],\n",
       "       [   7,    3,    0,    0,    5,   10,  931,    0,    2,    0],\n",
       "       [   0,    4,   16,    6,    0,    1,    0,  987,    4,   10],\n",
       "       [   0,    3,    4,   10,    7,    5,    3,    5,  935,    2],\n",
       "       [   6,    3,    1,    7,   20,    9,    1,    5,   12,  945]])"
      ]
     },
     "execution_count": 16,
     "metadata": {},
     "output_type": "execute_result"
    }
   ],
   "source": [
    "cm = confusion_matrix(test['label'], test['Pred'])\n",
    "cm_df = pd.DataFrame(cm,\n",
    "                     index = list(range(10)), \n",
    "                     columns = list(range(10)))\n",
    "cm"
   ]
  },
  {
   "cell_type": "code",
   "execution_count": 17,
   "metadata": {},
   "outputs": [
    {
     "data": {
      "image/png": "[encoded data removed]",
      "text/plain": [
       "<Figure size 1000x800 with 2 Axes>"
      ]
     },
     "metadata": {},
     "output_type": "display_data"
    }
   ],
   "source": [
    "#Plotting the confusion matrix\n",
    "plt.figure(figsize=(10,8))\n",
    "sns.heatmap(cm_df, annot=True)\n",
    "plt.title('Confusion Matrix')\n",
    "plt.ylabel('Actal Values')\n",
    "plt.xlabel('Predicted Values')\n",
    "plt.show()"
   ]
  },
  {
   "cell_type": "code",
   "execution_count": 18,
   "metadata": {},
   "outputs": [
    {
     "name": "stdout",
     "output_type": "stream",
     "text": [
      "Accuracy: 0.9669\n",
      "Precision: 0.9666296844517746\n",
      "Recall: 0.9666026810722121\n",
      "F1-Score: 0.9665681106370337\n"
     ]
    }
   ],
   "source": [
    "print('Accuracy:',accuracy_score(test['label'], test['Pred']))\n",
    "print('Precision:', precision_score(test['label'], test['Pred'], average='macro'))\n",
    "print('Recall:', recall_score(test['label'], test['Pred'], average='macro'))\n",
    "print('F1-Score:', f1_score(test['label'], test['Pred'], average='macro'))"
   ]
  }
 ],
 "metadata": {
  "kernelspec": {
   "display_name": "Python 3.8.1 32-bit",
   "language": "python",
   "name": "python3"
  },
  "language_info": {
   "codemirror_mode": {
    "name": "ipython",
    "version": 3
   },
   "file_extension": ".py",
   "mimetype": "text/x-python",
   "name": "python",
   "nbconvert_exporter": "python",
   "pygments_lexer": "ipython3",
   "version": "3.8.1"
  },
  "orig_nbformat": 4,
  "vscode": {
   "interpreter": {
    "hash": "c7df6bf223f7176d7550708f63d913b2afa49efdbb82907fa2478d15fdb8b293"
   }
  }
 },
 "nbformat": 4,
 "nbformat_minor": 2
}
