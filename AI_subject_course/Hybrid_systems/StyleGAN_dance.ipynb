{
  "cells": [
    {
      "cell_type": "markdown",
      "metadata": {
        "id": "4_SnGo0U41uD"
      },
      "source": [
        "#**Click on the play button for each step to run the style transfer**"
      ]
    },
    {
      "cell_type": "markdown",
      "metadata": {
        "id": "RxZjoVwCvnwX"
      },
      "source": [
        "##**1. Run the Setup**"
      ]
    },
    {
      "cell_type": "code",
      "execution_count": 3,
      "metadata": {
        "colab": {
          "base_uri": "https://localhost:8080/"
        },
        "id": "WOSxawPyr6Cn",
        "outputId": "67e242d5-3151-477c-ecad-e5b6aa9fb1e6"
      },
      "outputs": [
        {
          "name": "stdout",
          "output_type": "stream",
          "text": [
            "/content/style-transfer-video-processor\n",
            "\u001b[K     |████████████████████████████████| 127 kB 25.0 MB/s \n",
            "\u001b[K     |████████████████████████████████| 1.1 MB 43.6 MB/s \n",
            "\u001b[?25h  Installing build dependencies ... \u001b[?25l\u001b[?25hdone\n",
            "  Getting requirements to build wheel ... \u001b[?25l\u001b[?25hdone\n",
            "    Preparing wheel metadata ... \u001b[?25l\u001b[?25hdone\n",
            "\u001b[K     |████████████████████████████████| 147 kB 49.9 MB/s \n",
            "\u001b[K     |████████████████████████████████| 178 kB 62.7 MB/s \n",
            "\u001b[K     |████████████████████████████████| 72 kB 1.7 MB/s \n",
            "\u001b[K     |████████████████████████████████| 135 kB 68.3 MB/s \n",
            "\u001b[K     |████████████████████████████████| 3.8 MB 56.5 MB/s \n",
            "\u001b[K     |████████████████████████████████| 2.9 MB 65.8 MB/s \n",
            "\u001b[K     |████████████████████████████████| 1.1 MB 51.3 MB/s \n",
            "\u001b[K     |████████████████████████████████| 97 kB 7.3 MB/s \n",
            "\u001b[K     |████████████████████████████████| 14.8 MB 54.2 MB/s \n",
            "\u001b[K     |████████████████████████████████| 147 kB 71.2 MB/s \n",
            "\u001b[K     |████████████████████████████████| 50.4 MB 1.5 MB/s \n",
            "\u001b[K     |████████████████████████████████| 1.0 MB 57.6 MB/s \n",
            "\u001b[K     |████████████████████████████████| 41 kB 226 kB/s \n",
            "\u001b[K     |████████████████████████████████| 66 kB 6.4 MB/s \n",
            "\u001b[K     |████████████████████████████████| 67 kB 6.3 MB/s \n",
            "\u001b[K     |████████████████████████████████| 227 kB 68.7 MB/s \n",
            "\u001b[K     |████████████████████████████████| 719 kB 66.9 MB/s \n",
            "\u001b[K     |████████████████████████████████| 61 kB 8.3 MB/s \n",
            "\u001b[K     |████████████████████████████████| 10.6 MB 71.5 MB/s \n",
            "\u001b[K     |████████████████████████████████| 781 kB 58.0 MB/s \n",
            "\u001b[K     |████████████████████████████████| 394.3 MB 13 kB/s \n",
            "\u001b[K     |████████████████████████████████| 462 kB 54.5 MB/s \n",
            "\u001b[K     |████████████████████████████████| 107 kB 68.1 MB/s \n",
            "\u001b[K     |████████████████████████████████| 743 kB 49.5 MB/s \n",
            "\u001b[K     |████████████████████████████████| 137 kB 70.3 MB/s \n",
            "\u001b[?25h  Building wheel for black (PEP 517) ... \u001b[?25l\u001b[?25hdone\n",
            "  Building wheel for termcolor (setup.py) ... \u001b[?25l\u001b[?25hdone\n",
            "  Building wheel for wrapt (setup.py) ... \u001b[?25l\u001b[?25hdone\n"
          ]
        }
      ],
      "source": [
        "!git clone https://github.com/pabloosoriom/style-transfer-video-processor -q\n",
        "%cd /content/style-transfer-video-processor\n",
        "!pip -q install -r requirements.txt 2> /dev/null\n",
        "from google.colab import files\n",
        "uploaded_file = None"
      ]
    },
    {
      "cell_type": "markdown",
      "metadata": {
        "id": "Ka8eh7Kd9uKu"
      },
      "source": [
        "## **2. [OPTIONAL] Upload your own video**"
      ]
    },
    {
      "cell_type": "code",
      "execution_count": null,
      "metadata": {
        "colab": {
          "base_uri": "https://localhost:8080/",
          "height": 75,
          "resources": {
            "http://localhost:8080/nbextensions/google.colab/files.js": {
              "data": "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",
              "headers": [
                [
                  "content-type",
                  "application/javascript"
                ]
              ],
              "ok": true,
              "status": 200,
              "status_text": ""
            }
          }
        },
        "id": "oYV2aZEZ06-i",
        "outputId": "f738ad58-dda7-4b2d-955a-4bbc52848e9a"
      },
      "outputs": [
        {
          "data": {
            "text/html": [
              "\n",
              "     <input type=\"file\" id=\"files-1c7bee01-427a-4c8e-8546-873df307dfb8\" name=\"files[]\" multiple disabled\n",
              "        style=\"border:none\" />\n",
              "     <output id=\"result-1c7bee01-427a-4c8e-8546-873df307dfb8\">\n",
              "      Upload widget is only available when the cell has been executed in the\n",
              "      current browser session. Please rerun this cell to enable.\n",
              "      </output>\n",
              "      <script src=\"/nbextensions/google.colab/files.js\"></script> "
            ],
            "text/plain": [
              "<IPython.core.display.HTML object>"
            ]
          },
          "metadata": {},
          "output_type": "display_data"
        },
        {
          "name": "stdout",
          "output_type": "stream",
          "text": [
            "Saving WhatsApp Video 2022-05-11 at 11.07.12 AM.mp4 to WhatsApp Video 2022-05-11 at 11.07.12 AM (2).mp4\n"
          ]
        }
      ],
      "source": [
        "uploaded_file = files.upload()"
      ]
    },
    {
      "cell_type": "markdown",
      "metadata": {
        "id": "bR-G9ojO3Skp"
      },
      "source": [
        "## **3. Run the Config**\n",
        "You can also modify the config by expanding the cell"
      ]
    },
    {
      "cell_type": "code",
      "execution_count": 8,
      "metadata": {
        "id": "TzJ08ouCycl0"
      },
      "outputs": [],
      "source": [
        "class Config:\n",
        "    ROOT_PATH = '.'\n",
        "    # defines the maximum height dimension in pixels. Used for down-sampling the video frames\n",
        "    FRAME_HEIGHT = 368\n",
        "    CLEAR_INPUT_FRAME_CACHE = True\n",
        "    # defines the rate at which you want to capture frames from the input video\n",
        "    INPUT_FPS = 20\n",
        "    INPUT_VIDEO_NAME = 'dancing.mp4' #'input_vid.mov' \n",
        "    if uploaded_file:\n",
        "      INPUT_VIDEO_NAME = list(uploaded_file.keys())[0]\n",
        "    INPUT_VIDEO_PATH = f'{ROOT_PATH}/{INPUT_VIDEO_NAME}'\n",
        "    INPUT_FRAME_DIRECTORY = f'{ROOT_PATH}/input_frames'\n",
        "    INPUT_FRAME_FILE = '{:0>4d}_frame.png'\n",
        "    INPUT_FRAME_PATH = f'{INPUT_FRAME_DIRECTORY}/{INPUT_FRAME_FILE}'\n",
        "\n",
        "    STYLE_REF_DIRECTORY = f'{ROOT_PATH}/style_ref'\n",
        "    # defines the reference style image transition sequence. Values correspond to indices in STYLE_REF_DIRECTORY\n",
        "    # add None in the sequence to NOT apply style transfer for part of the video (ie. [None, 0, 1, 2])  \n",
        "    STYLE_SEQUENCE = [2, 2, 1, 0, 2, 1]\n",
        "\n",
        "    OUTPUT_FPS = 20\n",
        "    OUTPUT_VIDEO_NAME = 'dancing_style_gan.mp4'\n",
        "    OUTPUT_VIDEO_PATH = f'{ROOT_PATH}/{OUTPUT_VIDEO_NAME}'\n",
        "    OUTPUT_FRAME_DIRECTORY = f'{ROOT_PATH}/output_frames'\n",
        "    OUTPUT_FRAME_FILE = '{:0>4d}_frame.png'\n",
        "    OUTPUT_FRAME_PATH = f'{OUTPUT_FRAME_DIRECTORY}/{OUTPUT_FRAME_FILE}'\n",
        "\n",
        "    GHOST_FRAME_TRANSPARENCY = 0.005\n",
        "    PRESERVE_COLORS = False\n",
        "\n",
        "    TENSORFLOW_CACHE_DIRECTORY = f'{ROOT_PATH}/tensorflow_cache'\n",
        "    TENSORFLOW_HUB_HANDLE = 'https://tfhub.dev/google/magenta/arbitrary-image-stylization-v1-256/2'\n"
      ]
    },
    {
      "cell_type": "markdown",
      "metadata": {
        "id": "R-U9Fq_Dvrk_"
      },
      "source": [
        "##**4. Run the Style Transfer**"
      ]
    },
    {
      "cell_type": "code",
      "execution_count": 9,
      "metadata": {
        "colab": {
          "base_uri": "https://localhost:8080/"
        },
        "id": "a4mMkFpcsU0r",
        "outputId": "fe0b9d19-f62c-4fd7-c524-8f65ac1fc945"
      },
      "outputs": [
        {
          "name": "stdout",
          "output_type": "stream",
          "text": [
            "Getting input frames\n",
            "Getting style info\n",
            "Getting output frames\n",
            "Output frame: 0%\n",
            "Output frame: 2%\n",
            "Output frame: 3%\n",
            "Output frame: 5%\n",
            "Output frame: 7%\n",
            "Output frame: 8%\n",
            "Output frame: 10%\n",
            "Output frame: 12%\n",
            "Output frame: 13%\n",
            "Output frame: 15%\n",
            "Output frame: 17%\n",
            "Output frame: 18%\n",
            "Output frame: 20%\n",
            "Output frame: 22%\n",
            "Output frame: 23%\n",
            "Output frame: 25%\n",
            "Output frame: 27%\n",
            "Output frame: 28%\n",
            "Output frame: 30%\n",
            "Output frame: 32%\n",
            "Output frame: 33%\n",
            "Output frame: 35%\n",
            "Output frame: 36%\n",
            "Output frame: 38%\n",
            "Output frame: 40%\n",
            "Output frame: 41%\n",
            "Output frame: 43%\n",
            "Output frame: 45%\n",
            "Output frame: 46%\n",
            "Output frame: 48%\n",
            "Output frame: 50%\n",
            "Output frame: 51%\n",
            "Output frame: 53%\n",
            "Output frame: 55%\n",
            "Output frame: 56%\n",
            "Output frame: 58%\n",
            "Output frame: 60%\n",
            "Output frame: 61%\n",
            "Output frame: 63%\n",
            "Output frame: 65%\n",
            "Output frame: 66%\n",
            "Output frame: 68%\n",
            "Output frame: 70%\n",
            "Output frame: 71%\n",
            "Output frame: 73%\n",
            "Output frame: 75%\n",
            "Output frame: 76%\n",
            "Output frame: 78%\n",
            "Output frame: 80%\n",
            "Output frame: 81%\n",
            "Output frame: 83%\n",
            "Output frame: 85%\n",
            "Output frame: 86%\n",
            "Output frame: 88%\n",
            "Output frame: 90%\n",
            "Output frame: 91%\n",
            "Output frame: 93%\n",
            "Output frame: 95%\n",
            "Output frame: 96%\n",
            "Output frame: 98%\n",
            "Output frame: 100%\n",
            "Saving video\n",
            "Saving frame: 0%\n",
            "Saving frame: 2%\n",
            "Saving frame: 3%\n",
            "Saving frame: 5%\n",
            "Saving frame: 7%\n",
            "Saving frame: 8%\n",
            "Saving frame: 10%\n",
            "Saving frame: 12%\n",
            "Saving frame: 13%\n",
            "Saving frame: 15%\n",
            "Saving frame: 17%\n",
            "Saving frame: 18%\n",
            "Saving frame: 20%\n",
            "Saving frame: 22%\n",
            "Saving frame: 23%\n",
            "Saving frame: 25%\n",
            "Saving frame: 27%\n",
            "Saving frame: 28%\n",
            "Saving frame: 30%\n",
            "Saving frame: 32%\n",
            "Saving frame: 33%\n",
            "Saving frame: 35%\n",
            "Saving frame: 36%\n",
            "Saving frame: 38%\n",
            "Saving frame: 40%\n",
            "Saving frame: 41%\n",
            "Saving frame: 43%\n",
            "Saving frame: 45%\n",
            "Saving frame: 46%\n",
            "Saving frame: 48%\n",
            "Saving frame: 50%\n",
            "Saving frame: 51%\n",
            "Saving frame: 53%\n",
            "Saving frame: 55%\n",
            "Saving frame: 56%\n",
            "Saving frame: 58%\n",
            "Saving frame: 60%\n",
            "Saving frame: 61%\n",
            "Saving frame: 63%\n",
            "Saving frame: 65%\n",
            "Saving frame: 66%\n",
            "Saving frame: 68%\n",
            "Saving frame: 70%\n",
            "Saving frame: 71%\n",
            "Saving frame: 73%\n",
            "Saving frame: 75%\n",
            "Saving frame: 76%\n",
            "Saving frame: 78%\n",
            "Saving frame: 80%\n",
            "Saving frame: 81%\n",
            "Saving frame: 83%\n",
            "Saving frame: 85%\n",
            "Saving frame: 86%\n",
            "Saving frame: 88%\n",
            "Saving frame: 90%\n",
            "Saving frame: 91%\n",
            "Saving frame: 93%\n",
            "Saving frame: 95%\n",
            "Saving frame: 96%\n",
            "Saving frame: 98%\n",
            "Saving frame: 100%\n",
            "Style transfer complete! Output at ./dancing_style_gan.mp4\n"
          ]
        }
      ],
      "source": [
        "from style_frames import StyleFrame\n",
        "StyleFrame(Config).run()"
      ]
    },
    {
      "cell_type": "markdown",
      "metadata": {
        "id": "Zft9lz0r3d6I"
      },
      "source": [
        "## **5. Download the output video**"
      ]
    },
    {
      "cell_type": "code",
      "execution_count": 10,
      "metadata": {
        "colab": {
          "base_uri": "https://localhost:8080/",
          "height": 17
        },
        "id": "hRJogMY51Teh",
        "outputId": "d1ec4a67-4834-4a69-d8de-5a2cda0f0cb2"
      },
      "outputs": [
        {
          "data": {
            "application/javascript": "\n    async function download(id, filename, size) {\n      if (!google.colab.kernel.accessAllowed) {\n        return;\n      }\n      const div = document.createElement('div');\n      const label = document.createElement('label');\n      label.textContent = `Downloading \"${filename}\": `;\n      div.appendChild(label);\n      const progress = document.createElement('progress');\n      progress.max = size;\n      div.appendChild(progress);\n      document.body.appendChild(div);\n\n      const buffers = [];\n      let downloaded = 0;\n\n      const channel = await google.colab.kernel.comms.open(id);\n      // Send a message to notify the kernel that we're ready.\n      channel.send({})\n\n      for await (const message of channel.messages) {\n        // Send a message to notify the kernel that we're ready.\n        channel.send({})\n        if (message.buffers) {\n          for (const buffer of message.buffers) {\n            buffers.push(buffer);\n            downloaded += buffer.byteLength;\n            progress.value = downloaded;\n          }\n        }\n      }\n      const blob = new Blob(buffers, {type: 'application/binary'});\n      const a = document.createElement('a');\n      a.href = window.URL.createObjectURL(blob);\n      a.download = filename;\n      div.appendChild(a);\n      a.click();\n      div.remove();\n    }\n  ",
            "text/plain": [
              "<IPython.core.display.Javascript object>"
            ]
          },
          "metadata": {},
          "output_type": "display_data"
        },
        {
          "data": {
            "application/javascript": "download(\"download_3de44c45-c09f-4c06-ad35-71235c788a32\", \"dancing_style_gan.mp4\", 33759478)",
            "text/plain": [
              "<IPython.core.display.Javascript object>"
            ]
          },
          "metadata": {},
          "output_type": "display_data"
        }
      ],
      "source": [
        "files.download('dancing_style_gan.mp4')"
      ]
    }
  ],
  "metadata": {
    "accelerator": "GPU",
    "colab": {
      "collapsed_sections": [
        "bR-G9ojO3Skp"
      ],
      "provenance": []
    },
    "kernelspec": {
      "display_name": "Python 3.8.1 32-bit",
      "language": "python",
      "name": "python3"
    },
    "language_info": {
      "name": "python",
      "version": "3.8.1"
    },
    "vscode": {
      "interpreter": {
        "hash": "c7df6bf223f7176d7550708f63d913b2afa49efdbb82907fa2478d15fdb8b293"
      }
    }
  },
  "nbformat": 4,
  "nbformat_minor": 0
}
